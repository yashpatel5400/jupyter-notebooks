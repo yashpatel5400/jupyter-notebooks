{
 "cells": [
  {
   "cell_type": "code",
   "execution_count": 3,
   "metadata": {},
   "outputs": [],
   "source": [
    "from ipywidgets import interact, interactive, fixed, interact_manual\n",
    "import ipywidgets as widgets\n",
    "import numpy as np\n",
    "import matplotlib.pyplot as plt"
   ]
  },
  {
   "cell_type": "code",
   "execution_count": 5,
   "metadata": {},
   "outputs": [],
   "source": [
    "def rotate_scale(x, angle, scale):\n",
    "    x = np.rot90(x, angle / 90) * scale\n",
    "    return x"
   ]
  },
  {
   "cell_type": "code",
   "execution_count": 26,
   "metadata": {},
   "outputs": [],
   "source": [
    "def rotate_scale_zncc(x, angle, scale, translate):\n",
    "    y = np.rot90(x, angle / 90) * scale + translate\n",
    "    \n",
    "    fig, axes = plt.subplots(2)\n",
    "    axes[0].imshow(x, cmap='hot', interpolation='nearest')\n",
    "    axes[1].imshow(y, cmap='hot', interpolation='nearest')\n",
    "    plt.show()\n",
    "    \n",
    "    print(x)\n",
    "    print(y)\n",
    "    \n",
    "    original = calc_zncc(x, y, False)\n",
    "    new = calc_zncc(x, y, True)\n",
    "    print(\"Original: {}\".format(original))\n",
    "    print(\"New: {}\".format(new))"
   ]
  },
  {
   "cell_type": "code",
   "execution_count": 29,
   "metadata": {},
   "outputs": [
    {
     "data": {
      "application/vnd.jupyter.widget-view+json": {
       "model_id": "6a8ae7475d0d49d8a9c0b083a630739c",
       "version_major": 2,
       "version_minor": 0
      },
      "text/plain": [
       "aW50ZXJhY3RpdmUoY2hpbGRyZW49KEludFNsaWRlcih2YWx1ZT0wLCBkZXNjcmlwdGlvbj11J2FuZ2xlJywgbWF4PTM2MCwgc3RlcD05MCksIEludFNsaWRlcih2YWx1ZT0xLCBkZXNjcmlwdGnigKY=\n"
      ]
     },
     "metadata": {},
     "output_type": "display_data"
    }
   ],
   "source": [
    "x = np.array([\n",
    "    [1,2,1],\n",
    "    [2,4,0],\n",
    "    [1,2,1]\n",
    "])\n",
    "y = interact(rotate_scale_zncc, \n",
    "             x=fixed(x), \n",
    "             angle=widgets.IntSlider(min=0,max=360,step=90,value=0), \n",
    "             scale=widgets.IntSlider(min=1,max=5,step=1,value=1), \n",
    "             translate=widgets.IntSlider(min=-5,max=5,step=1,value=0));"
   ]
  }
 ],
 "metadata": {
  "kernelspec": {
   "display_name": "Python 2",
   "language": "python",
   "name": "python2"
  },
  "language_info": {
   "codemirror_mode": {
    "name": "ipython",
    "version": 2
   },
   "file_extension": ".py",
   "mimetype": "text/x-python",
   "name": "python",
   "nbconvert_exporter": "python",
   "pygments_lexer": "ipython2",
   "version": "2.7.15"
  }
 },
 "nbformat": 4,
 "nbformat_minor": 2
}
